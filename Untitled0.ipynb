{
  "nbformat": 4,
  "nbformat_minor": 0,
  "metadata": {
    "colab": {
      "provenance": []
    },
    "kernelspec": {
      "name": "python3",
      "display_name": "Python 3"
    },
    "language_info": {
      "name": "python"
    },
    "accelerator": "GPU",
    "gpuClass": "standard"
  },
  "cells": [
    {
      "cell_type": "code",
      "source": [
        "# operator example\n",
        "a = 10\n",
        "b = 3\n",
        "\n",
        "print(f\"a + b = {a+b}\")# 相加\n",
        "print(f\"a - b = {a-b}\")# 相減\n",
        "print(f\"a * b = {a*b}\")# 相乘\n",
        "print(f\"a / b = {a/b}\")# 相除\n",
        "print(f\"a % b = {a%b}\")# 取餘數\n",
        "print(f\"a // b = {a//b}\")# 相除並取整數\n",
        "print(f\"a ** b = {a**b}\")# a的b次方"
      ],
      "metadata": {
        "id": "9Seq_Gzy3Jjg",
        "colab": {
          "base_uri": "https://localhost:8080/"
        },
        "outputId": "c3e9e10a-ec43-48ca-be63-7bf539bf983a"
      },
      "execution_count": 1,
      "outputs": [
        {
          "output_type": "stream",
          "name": "stdout",
          "text": [
            "a + b = 13\n",
            "a - b = 7\n",
            "a * b = 30\n",
            "a / b = 3.3333333333333335\n",
            "a % b = 1\n",
            "a // b = 3\n",
            "a ** b = 1000\n"
          ]
        }
      ]
    },
    {
      "cell_type": "code",
      "source": [
        "a = 10\n",
        "b = 3\n",
        "\n",
        "print(f\"a > b = {a>b}\")\n",
        "print(f\"a < b = {a<b}\")\n",
        "print(f\"a >= b = {a>=b}\")\n",
        "print(f\"a <= b = {a<=b}\")\n",
        "print(f\"a == b = {a==b}\")\n",
        "print(f\"a != b = {a!=b}\")\n"
      ],
      "metadata": {
        "colab": {
          "base_uri": "https://localhost:8080/"
        },
        "id": "Rz94gztdaPlF",
        "outputId": "873bc432-a747-4fce-bcc6-31306791b0a9"
      },
      "execution_count": 2,
      "outputs": [
        {
          "output_type": "stream",
          "name": "stdout",
          "text": [
            "a > b = True\n",
            "a < b = False\n",
            "a >= b = True\n",
            "a <= b = False\n",
            "a == b = False\n",
            "a != b = True\n"
          ]
        }
      ]
    },
    {
      "cell_type": "code",
      "source": [
        "a = True\n",
        "b = False\n",
        "\n",
        "print(f\"a and b = {a and b}\")\n",
        "print(f\"a or b = {a or b}\")\n",
        "print(f\"not a = {not a}\")\n",
        "print(f\"not b = {not b}\")"
      ],
      "metadata": {
        "colab": {
          "base_uri": "https://localhost:8080/"
        },
        "id": "uG23rItUaQ53",
        "outputId": "540efa56-3872-4722-b8d4-dfe88bee7506"
      },
      "execution_count": 3,
      "outputs": [
        {
          "output_type": "stream",
          "name": "stdout",
          "text": [
            "a and b = False\n",
            "a or b = True\n",
            "not a = False\n",
            "not b = True\n"
          ]
        }
      ]
    },
    {
      "cell_type": "code",
      "source": [
        "my_dict = {\"name\": \"John\", \"age\": 30, \"major\": \"Computer Science\"}\n",
        "# 訪問字典中的值\n",
        "name = my_dict[\"name\"]\n",
        "age = my_dict[\"age\"]\n",
        "major = my_dict[\"major\"]\n",
        "print(f\"Name: {name}, Age: {age}, Major: {major}\")"
      ],
      "metadata": {
        "colab": {
          "base_uri": "https://localhost:8080/"
        },
        "id": "heVWvBTDaRve",
        "outputId": "9383df80-d6ae-41a1-8c43-c89026ac4cd4"
      },
      "execution_count": 4,
      "outputs": [
        {
          "output_type": "stream",
          "name": "stdout",
          "text": [
            "Name: John, Age: 30, Major: Computer Science\n"
          ]
        }
      ]
    },
    {
      "cell_type": "code",
      "source": [
        "# 新增鍵值對\n",
        "my_dict[\"Country\"] = \"Taiwan\"\n",
        "country = my_dict[\"Country\"]\n",
        "print(f\"Name: {name}, Age: {age}, Major: {major}, Country: {country}\")\n"
      ],
      "metadata": {
        "colab": {
          "base_uri": "https://localhost:8080/"
        },
        "id": "iamxISx9aS67",
        "outputId": "6c6c4326-bd78-4a38-f204-365293b0bba2"
      },
      "execution_count": 5,
      "outputs": [
        {
          "output_type": "stream",
          "name": "stdout",
          "text": [
            "Name: John, Age: 30, Major: Computer Science, Country: Taiwan\n"
          ]
        }
      ]
    },
    {
      "cell_type": "code",
      "source": [
        "# 更新值\n",
        "my_dict[\"age\"] = 18\n",
        "age = my_dict[\"age\"]\n",
        "print(f\"Name: {name}, Age: {age}, Major: {major}, Country: {country}\")"
      ],
      "metadata": {
        "colab": {
          "base_uri": "https://localhost:8080/"
        },
        "id": "kMVtG0SaaT-e",
        "outputId": "c1a6a3cf-d7ae-4a50-fcbb-45dd96955c80"
      },
      "execution_count": 6,
      "outputs": [
        {
          "output_type": "stream",
          "name": "stdout",
          "text": [
            "Name: John, Age: 18, Major: Computer Science, Country: Taiwan\n"
          ]
        }
      ]
    },
    {
      "cell_type": "code",
      "source": [
        "# 刪除鍵值對\n",
        "del my_dict[\"Country\"]\n",
        "# 檢查鍵是否存在\n",
        "if \"Country\" in my_dict:\n",
        "    print(\"The 'Country' key exists in the dictionary.\")\n",
        "else:\n",
        "    print(\"The 'Country' key not exists in the dictionary.\")\n"
      ],
      "metadata": {
        "colab": {
          "base_uri": "https://localhost:8080/"
        },
        "id": "7L8QnpJ1aVSy",
        "outputId": "56ef42ec-3eb8-4edc-8a6e-f08306ed7769"
      },
      "execution_count": 7,
      "outputs": [
        {
          "output_type": "stream",
          "name": "stdout",
          "text": [
            "The 'Country' key not exists in the dictionary.\n"
          ]
        }
      ]
    },
    {
      "cell_type": "code",
      "source": [
        "# 取得所有的鍵和值\n",
        "keys = my_dict.keys()\n",
        "values = my_dict.values()\n",
        "\n",
        "print(\"Keys:\", keys)\n",
        "print(\"Values:\", values)\n"
      ],
      "metadata": {
        "colab": {
          "base_uri": "https://localhost:8080/"
        },
        "id": "PVUWN3uyaWBT",
        "outputId": "09ab4776-2a35-4d97-a662-c37d4a2b5a64"
      },
      "execution_count": 8,
      "outputs": [
        {
          "output_type": "stream",
          "name": "stdout",
          "text": [
            "Keys: dict_keys(['name', 'age', 'major'])\n",
            "Values: dict_values(['John', 18, 'Computer Science'])\n"
          ]
        }
      ]
    },
    {
      "cell_type": "code",
      "source": [
        "# 迭代字典中的鍵值對\n",
        "for key, value in my_dict.items():\n",
        "    print(f\"Key: {key}, Value: {value}\")\n"
      ],
      "metadata": {
        "colab": {
          "base_uri": "https://localhost:8080/"
        },
        "id": "JecQpREBaXGj",
        "outputId": "0d5adb64-3272-4222-b3be-6257c88374d5"
      },
      "execution_count": 9,
      "outputs": [
        {
          "output_type": "stream",
          "name": "stdout",
          "text": [
            "Key: name, Value: John\n",
            "Key: age, Value: 18\n",
            "Key: major, Value: Computer Science\n"
          ]
        }
      ]
    },
    {
      "cell_type": "code",
      "source": [],
      "metadata": {
        "id": "y81dmZkVaYF6"
      },
      "execution_count": null,
      "outputs": []
    }
  ]
}